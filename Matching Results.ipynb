{
 "cells": [
  {
   "cell_type": "markdown",
   "id": "107adfe9",
   "metadata": {},
   "source": [
    "# Matching, Поиск ближайшего соседа  \n",
    "В данном проекте было необходимо разработать алгоритм который для всех товаров из списка может предложить несколько вариантов наиболее похожих товаров из базы данных. \n",
    "В моём распоряжении находилась база данных с 3 миллионами товаров и 72 признаками для каждого, тренировочный набор данных (100000 строк) и данные для валидации (100000 строк). \n",
    " Заказчик предварительно зашифровал все данные, поэтому анализ признаков не представлялся возможным.\n",
    "\n",
    "## Данные\n",
    "\n",
    "- *base.csv* - анонимизированный набор товаров. Каждый товар представлен как уникальный id (0-base, 1-base, 2-base) и вектор признаков размерностью 72.\n",
    "- *target.csv -* обучающий датасет. Каждая строчка - один товар, для которого известен уникальный id (0-query, 1-query, …) , вектор признаков И id товара из *base.csv*, который максимально похож на него (по мнению экспертов).\n",
    "- *validation.csv* - датасет с товарами (уникальный id и вектор признаков), для которых надо найти наиболее близкие товары из *base.csv*\n",
    "- *validation_answer.csv* - правильные ответы к предыдущему файлу.  \n",
    "\n",
    "Задача была разбита на два этапа. В первом была применена библиотека от разработанная Facebook -\"Facebook AI Similarity Search\". Необходимо было выбрать n кандидатов для каждого запроса из target и на втором\n",
    "этапе с помощью модели CatBoostClassifier проранжировать их.На первом этапе (Файл Matching.ipynb) было проанализировано несколько вариантов индексации и квантования признаков:инвертированный индекс (IVF), product quantization (PQ), инвертированный мульти индекс (IMI), их различные комбинации,\n",
    "а также методы Refine, RFlat и OPQ. Наилучший результат в index_factory показала строка \"OPQ32,IMI2x8,PQ32\" со значением метрики accuracy@5 = 82 для 200 ближайших соседей и 84.5 для 500 и nprobe = 10000. Хочется отметить несколько интересных фактов:\n",
    "\n",
    "    1) Применение метода масштабирования признаков StandardScaler в последствии даёт меньший результат, чем MinMaxScaler  \n",
    "    2) Для IVFPQ можно разбить вектор признаков на две части и для каждой обучить свою модель faiss. После объединения предсказаний и удаления дубликатов, можно получить метрику на 1% выше, чем для одной модели faiss для одинакового выходного количества соседей. Данный метод плохо работает для IVFFlat и HNSWFlat  \n",
    "    3) Некоторые признаки сильно ухудшают работу faiss, поэтому первый этап проводился без них  "
   ]
  },
  {
   "cell_type": "markdown",
   "id": "9be71001",
   "metadata": {},
   "source": [
    "# Подготовка данных"
   ]
  },
  {
   "cell_type": "code",
   "execution_count": 1,
   "id": "50ef11bd",
   "metadata": {
    "ExecuteTime": {
     "end_time": "2023-08-28T18:10:10.676938Z",
     "start_time": "2023-08-28T18:10:08.841784Z"
    }
   },
   "outputs": [
    {
     "name": "stderr",
     "output_type": "stream",
     "text": [
      "C:\\ProgramData\\Anaconda3\\envs\\practicum\\lib\\site-packages\\scipy\\__init__.py:146: UserWarning: A NumPy version >=1.17.3 and <1.25.0 is required for this version of SciPy (detected version 1.25.2\n",
      "  warnings.warn(f\"A NumPy version >={np_minversion} and <{np_maxversion}\"\n"
     ]
    }
   ],
   "source": [
    "import pandas as pd\n",
    "import numpy as np\n",
    "from sklearn.utils.class_weight import compute_class_weight\n",
    "import time\n",
    "\n",
    "from catboost import CatBoostClassifier\n",
    "from sklearn.model_selection import train_test_split\n",
    "\n",
    "import random\n",
    "import faiss\n",
    "from faiss import write_index, read_index\n",
    "\n",
    "from sklearn.preprocessing import MinMaxScaler\n",
    "import warnings\n",
    "warnings.filterwarnings(\"ignore\")"
   ]
  },
  {
   "cell_type": "code",
   "execution_count": 2,
   "id": "99b71993",
   "metadata": {
    "ExecuteTime": {
     "end_time": "2023-08-28T18:10:10.692938Z",
     "start_time": "2023-08-28T18:10:10.678938Z"
    }
   },
   "outputs": [],
   "source": [
    "#Загружаем все данные для работы\n",
    "def upload_data():\n",
    "    df_base = pd.read_csv(\"data/base.csv\", index_col=0)\n",
    "    df_train = pd.read_csv(\"data/train.csv\", index_col=0)\n",
    "    df_validation = pd.read_csv(\"data/validation.csv\", index_col=0)\n",
    "    validation_targets = pd.read_csv(\"data/validation_answer.csv\", index_col=0)\n",
    "    \n",
    "    train_targets = df_train[\"Target\"]\n",
    "    df_train.drop(\"Target\", axis=1, inplace=True)\n",
    "    \n",
    "    scale = MinMaxScaler(feature_range = (-2, 2))\n",
    "    base_scaled = pd.DataFrame(scale.fit_transform(df_base), columns=df_base.columns, index=df_base.index)\n",
    "    train_scaled = pd.DataFrame(scale.transform(df_train), columns=df_train.columns, index=df_train.index)\n",
    "    validation_scaled = pd.DataFrame(scale.transform(df_validation), columns=df_validation.columns, index=df_validation.index)\n",
    "    \n",
    "    base_index = {k: v for k, v in enumerate(df_base.index.to_list())}\n",
    "    \n",
    "    return base_scaled, train_scaled, validation_scaled, train_targets.values.tolist(), validation_targets['Expected'].values.tolist(), base_index"
   ]
  },
  {
   "cell_type": "code",
   "execution_count": 48,
   "id": "d416623a",
   "metadata": {
    "ExecuteTime": {
     "end_time": "2023-08-28T20:23:15.170931Z",
     "start_time": "2023-08-28T20:23:15.162931Z"
    }
   },
   "outputs": [],
   "source": [
    "#Метрика точности\n",
    "def accuracy_n(target: list, ans: list()):\n",
    "    acc = 0\n",
    "    for target, el in zip(target, ans):\n",
    "        acc += int(target in [base_index[r] for r in el])\n",
    "    print(\"Точность = \", 100 * acc / len(ans))\n",
    "    return 100 * acc / len(ans)"
   ]
  },
  {
   "cell_type": "code",
   "execution_count": 65,
   "id": "59d0c770",
   "metadata": {
    "ExecuteTime": {
     "end_time": "2023-08-28T20:51:54.939583Z",
     "start_time": "2023-08-28T20:51:54.922584Z"
    }
   },
   "outputs": [],
   "source": [
    "#Первый этап: отбор кандидатов для ранжирования\n",
    "def search_in_index(index, data: np.ndarray, out: int, target: list):\n",
    "    bad_features= ['6', '21', '25', '44', '59', '70', '65', '33']\n",
    "    \n",
    "    if type(data) == pd.DataFrame:\n",
    "        data = data.drop(bad_features, axis=1)\n",
    "        data = data.values\n",
    "    start_time = time.time()\n",
    "    vecs, idx = index.search(np.ascontiguousarray(data).astype('float32'), out)\n",
    "    print(f\"Время поиска кандидатов (выдача = {out}) = {round(time.time() - start_time, 3)} секунд\")\n",
    "    accuracy_n(target, idx)\n",
    "    return vecs, idx"
   ]
  },
  {
   "cell_type": "code",
   "execution_count": 6,
   "id": "29c69df2",
   "metadata": {
    "ExecuteTime": {
     "end_time": "2023-08-28T18:10:10.762737Z",
     "start_time": "2023-08-28T18:10:10.747587Z"
    }
   },
   "outputs": [],
   "source": [
    "#Загрузка индексов для последующей работы search_in_index\n",
    "def get_index(find_data, target, nprobe=10000, number_of_neighbors=100):\n",
    "    index = read_index(\"OPQ32,IMI2x8,PQ32_nprobe10000_parts1_length64_out_one200_part.index\")\n",
    "    index.nprobe = 10000\n",
    "    vecs, idx = search_in_index(index, find_data, number_of_neighbors, target)\n",
    "    return vecs, idx"
   ]
  },
  {
   "cell_type": "code",
   "execution_count": 5,
   "id": "058b0699",
   "metadata": {
    "ExecuteTime": {
     "end_time": "2023-08-28T18:10:10.746052Z",
     "start_time": "2023-08-28T18:10:10.730652Z"
    }
   },
   "outputs": [],
   "source": [
    "#Формаирование признаков для модели CatBoost\n",
    "def generate_dataset(base, query, idx, vecs, base_index, number_of_neighbors, query_target):\n",
    "    faiss_index = np.array(idx).flatten()\n",
    "    decode_index = np.array([[base_index[r] for r in el] for el in idx])\n",
    "    faiss_rank = np.array([[r+1 for r in range(len(el))] for el in idx]).flatten()\n",
    "    idx = idx.flatten()\n",
    "    \n",
    "    base_features = base.loc[decode_index.flatten()].values\n",
    "    query_features = np.repeat(query.values, number_of_neighbors, axis=0)\n",
    "    vecs = np.array(vecs).reshape(-1, 1)\n",
    "    \n",
    "    target = []\n",
    "    for t, el in zip(query_target, decode_index):\n",
    "        target_query = []\n",
    "        for i in el:\n",
    "            if i != -1 and t == i:\n",
    "                target_query.append(1)\n",
    "            else:\n",
    "                target_query.append(0)  \n",
    "        target.append(target_query)\n",
    "        \n",
    "    target = np.array(target).flatten()\n",
    "    \n",
    "    features = np.column_stack((vecs, query_features, base_features, np.sqrt(np.square(query_features - base_features))))\n",
    "    return features, target"
   ]
  },
  {
   "cell_type": "code",
   "execution_count": 11,
   "id": "e6dd9c79",
   "metadata": {
    "ExecuteTime": {
     "end_time": "2023-08-28T18:11:00.786756Z",
     "start_time": "2023-08-28T18:11:00.771757Z"
    }
   },
   "outputs": [],
   "source": [
    "number_of_neighbors = 120\n",
    "nprob = 10000 #Всего их 2**18=262144"
   ]
  },
  {
   "cell_type": "code",
   "execution_count": 12,
   "id": "eb255606",
   "metadata": {
    "ExecuteTime": {
     "end_time": "2023-08-28T18:11:23.940977Z",
     "start_time": "2023-08-28T18:11:00.788756Z"
    }
   },
   "outputs": [],
   "source": [
    "base, train, valid, train_target, valid_target, base_index = upload_data()"
   ]
  },
  {
   "cell_type": "code",
   "execution_count": 13,
   "id": "80a9a5b0",
   "metadata": {
    "ExecuteTime": {
     "end_time": "2023-08-28T18:15:39.765477Z",
     "start_time": "2023-08-28T18:11:23.943006Z"
    }
   },
   "outputs": [
    {
     "name": "stdout",
     "output_type": "stream",
     "text": [
      "Время поиска 120 кандидатов = 248.49448609352112 секунд\n",
      "Точность =  80.931\n"
     ]
    }
   ],
   "source": [
    "vecs, idx = get_index(train, train_target, nprob, number_of_neighbors)"
   ]
  },
  {
   "cell_type": "code",
   "execution_count": 14,
   "id": "f6641a95",
   "metadata": {
    "ExecuteTime": {
     "end_time": "2023-08-28T18:19:08.015163Z",
     "start_time": "2023-08-28T18:15:39.766487Z"
    }
   },
   "outputs": [],
   "source": [
    "features, target = generate_dataset(base, train, idx, vecs, base_index, number_of_neighbors, train_target)"
   ]
  },
  {
   "cell_type": "markdown",
   "id": "6acf807e",
   "metadata": {},
   "source": [
    "# Обучение"
   ]
  },
  {
   "cell_type": "code",
   "execution_count": 16,
   "id": "381396c3",
   "metadata": {
    "ExecuteTime": {
     "end_time": "2023-08-28T18:19:08.140162Z",
     "start_time": "2023-08-28T18:19:08.124536Z"
    }
   },
   "outputs": [],
   "source": [
    "#Обучение модели\n",
    "def fit_model(features,  target):\n",
    "    X_train, X_test, y_train, y_test = train_test_split(features,  target, \n",
    "                                                    test_size=0.05, random_state=42, shuffle=True)\n",
    "    \n",
    "    #classes = np.unique(y_train)\n",
    "    #weights = compute_class_weight(class_weight='balanced', classes=classes, y=y_train)\n",
    "    #class_weights = dict(zip(classes, weights))\n",
    "    \n",
    "    class_weights = {0: 1, 1: 100}\n",
    "    #print(class_weights)\n",
    "    params = {\n",
    "        'max_depth': 8,\n",
    "        'n_estimators': 850,\n",
    "        'learning_rate': 0.1,\n",
    "        'thread_count': -1,\n",
    "        'random_state': 42,\n",
    "        'verbose': 50,\n",
    "        'class_weights':  class_weights,\n",
    "        'custom_loss': ['AUC', 'Accuracy']\n",
    "    }\n",
    "    \n",
    "    model = CatBoostClassifier(**params)\n",
    "    model.fit(X_train, y_train, eval_set=(X_test,  y_test))\n",
    "    \n",
    "    model.save_model('catboost_model_final',\n",
    "           format=\"cbm\",\n",
    "           export_parameters=None,\n",
    "           pool=None)\n",
    "    "
   ]
  },
  {
   "cell_type": "code",
   "execution_count": 17,
   "id": "1cebd089",
   "metadata": {
    "ExecuteTime": {
     "end_time": "2023-08-28T19:09:21.825997Z",
     "start_time": "2023-08-28T18:19:08.140162Z"
    }
   },
   "outputs": [
    {
     "name": "stdout",
     "output_type": "stream",
     "text": [
      "0:\tlearn: 0.5013310\ttest: 0.5016736\tbest: 0.5016736 (0)\ttotal: 3.97s\tremaining: 56m 12s\n",
      "50:\tlearn: 0.0971326\ttest: 0.0992343\tbest: 0.0992343 (50)\ttotal: 2m 4s\tremaining: 32m 35s\n",
      "100:\tlearn: 0.0862218\ttest: 0.0908612\tbest: 0.0908612 (100)\ttotal: 4m 7s\tremaining: 30m 37s\n",
      "150:\tlearn: 0.0795361\ttest: 0.0876097\tbest: 0.0875867 (149)\ttotal: 6m 8s\tremaining: 28m 26s\n",
      "200:\tlearn: 0.0730327\ttest: 0.0835361\tbest: 0.0835361 (200)\ttotal: 8m\tremaining: 25m 51s\n",
      "250:\tlearn: 0.0680262\ttest: 0.0816328\tbest: 0.0816328 (250)\ttotal: 9m 51s\tremaining: 23m 31s\n",
      "300:\tlearn: 0.0640902\ttest: 0.0803301\tbest: 0.0803194 (299)\ttotal: 11m 36s\tremaining: 21m 10s\n",
      "350:\tlearn: 0.0606478\ttest: 0.0792059\tbest: 0.0791913 (349)\ttotal: 13m 20s\tremaining: 18m 57s\n",
      "400:\tlearn: 0.0577873\ttest: 0.0786697\tbest: 0.0786697 (400)\ttotal: 15m 3s\tremaining: 16m 51s\n",
      "450:\tlearn: 0.0548320\ttest: 0.0779374\tbest: 0.0778855 (447)\ttotal: 16m 48s\tremaining: 14m 52s\n",
      "500:\tlearn: 0.0521914\ttest: 0.0773270\tbest: 0.0773201 (497)\ttotal: 18m 34s\tremaining: 12m 56s\n",
      "550:\tlearn: 0.0496113\ttest: 0.0769672\tbest: 0.0769672 (550)\ttotal: 20m 21s\tremaining: 11m 2s\n",
      "600:\tlearn: 0.0470962\ttest: 0.0764590\tbest: 0.0764582 (593)\ttotal: 22m 6s\tremaining: 9m 9s\n",
      "650:\tlearn: 0.0448801\ttest: 0.0764509\tbest: 0.0764027 (638)\ttotal: 23m 51s\tremaining: 7m 17s\n",
      "700:\tlearn: 0.0427487\ttest: 0.0762001\tbest: 0.0761230 (658)\ttotal: 25m 38s\tremaining: 5m 26s\n",
      "750:\tlearn: 0.0407928\ttest: 0.0761114\tbest: 0.0760082 (743)\ttotal: 27m 25s\tremaining: 3m 36s\n",
      "800:\tlearn: 0.0391002\ttest: 0.0760827\tbest: 0.0759000 (761)\ttotal: 29m 8s\tremaining: 1m 46s\n",
      "849:\tlearn: 0.0376232\ttest: 0.0762444\tbest: 0.0759000 (761)\ttotal: 30m 51s\tremaining: 0us\n",
      "\n",
      "bestTest = 0.07590004646\n",
      "bestIteration = 761\n",
      "\n",
      "Shrink model to first 762 iterations.\n"
     ]
    }
   ],
   "source": [
    "fit_model(features,  target)"
   ]
  },
  {
   "cell_type": "markdown",
   "id": "1b07de88",
   "metadata": {},
   "source": [
    "# Валидация модели"
   ]
  },
  {
   "cell_type": "code",
   "execution_count": 11,
   "id": "503c8896",
   "metadata": {
    "ExecuteTime": {
     "end_time": "2023-08-27T20:40:00.432160Z",
     "start_time": "2023-08-27T20:40:00.418896Z"
    }
   },
   "outputs": [],
   "source": [
    "#Если нет необходимости в данных для обучения, то удаляем их\n",
    "del train, train_target"
   ]
  },
  {
   "cell_type": "code",
   "execution_count": 18,
   "id": "25cfc384",
   "metadata": {
    "ExecuteTime": {
     "end_time": "2023-08-28T19:09:21.848594Z",
     "start_time": "2023-08-28T19:09:21.825997Z"
    }
   },
   "outputs": [],
   "source": [
    "#Загрудаем обученную модель CatBoost\n",
    "def load_model():\n",
    "    model = CatBoostClassifier()\n",
    "    model.load_model('catboost_model_final')\n",
    "    return model\n",
    "\n",
    "model = load_model()"
   ]
  },
  {
   "cell_type": "code",
   "execution_count": 83,
   "id": "95f05fa5",
   "metadata": {
    "ExecuteTime": {
     "end_time": "2023-08-28T23:22:47.355467Z",
     "start_time": "2023-08-28T23:22:47.346466Z"
    }
   },
   "outputs": [],
   "source": [
    "\"\"\"\n",
    "sort_pred - сортирует отранжированную матрицу для отбора лучших кандидатов\n",
    "validation - Своего рада валидация батчами для экономии ОЗУ\n",
    "\"\"\"\n",
    "\n",
    "number_of_neighbors = 1000\n",
    "nprob = 10000 #Всешо их 2**18=262144\n",
    "\n",
    "def sort_pred(pred, index):\n",
    "    a = np.array([pred, index])\n",
    "    for i in range(len(a[0])):\n",
    "        b = a[:,i,:][:, :].argsort(axis=1)\n",
    "        b = b[0].tolist()\n",
    "        a[:,i,:] = a[:,i,b]\n",
    "        a[:,i,:] = a[:,i,::-1]\n",
    "    return a\n",
    "\n",
    "#start, end - начало и конец среза в valid\n",
    "def validation(start, end):\n",
    "    vecs_valid, idx_valid = get_index(valid[start:end], valid_target[start:end], nprob, number_of_neighbors)\n",
    "    \n",
    "    features_valid, target_valid = generate_dataset(base, valid[start:end], idx_valid, vecs_valid, \n",
    "                                                base_index, number_of_neighbors, valid_target[start:end])\n",
    "    pred = model.predict_proba(features_valid)[:,1]\n",
    "    pred = pred.reshape((-1, number_of_neighbors))\n",
    "    arr = sort_pred(pred, idx_valid)\n",
    "    acc = accuracy_n(valid_target[start:end], arr[:,:,:5][1].astype(int).tolist())\n",
    "    return acc"
   ]
  },
  {
   "cell_type": "markdown",
   "id": "5416a969",
   "metadata": {},
   "source": [
    "Цикл ниже возвращает значение метрики для небольших частей данных валидации"
   ]
  },
  {
   "cell_type": "code",
   "execution_count": 84,
   "id": "a010cf5e",
   "metadata": {
    "ExecuteTime": {
     "end_time": "2023-08-28T23:32:51.339614Z",
     "start_time": "2023-08-28T23:22:49.861332Z"
    }
   },
   "outputs": [
    {
     "name": "stdout",
     "output_type": "stream",
     "text": [
      "Часть 1\n",
      "Время поиска кандидатов (выдача = 1000) = 24.818 секунд\n",
      "Точность =  85.06\n",
      "Точность =  82.63\n",
      "\n",
      "Суммарная точность на валидации 82.63\n"
     ]
    }
   ],
   "source": [
    "total_acc = []\n",
    "for i in range(1):\n",
    "    print(f\"Часть {i+1}\")\n",
    "    total_acc.append(validation(10000*i, 10000*(i+1)))\n",
    "    print()\n",
    "    \n",
    "print(f\"Суммарная точность на валидации {np.mean(total_acc)}\")"
   ]
  },
  {
   "cell_type": "markdown",
   "id": "56d3facb",
   "metadata": {},
   "source": [
    "# Итоги\n",
    "\n",
    "Был разработана двухэтапная модель для определения ближайших соседей \"неизвестного\" интернет магазина. Результаты тестирования модели представленны в таблице:\n",
    "\n",
    "| Количество соседей, n | Accuracy@n после первого этапа | Время выполнения валидации | Accuracy@5 |\n",
    "|:----------------:|:----------------:|:---------:|:----------------:|\n",
    "| 1000 (на 10% данных) | 85.06 | 10m 1s | 82.63 |\n",
    "| 500 | 84.073 | 48m 35s | 81.713 |\n",
    "| 200 | 82.115| 22m 9s | 80.148 |\n",
    "| 50 | 78.67| 8m 44 | 77.4 |\n",
    "\n",
    "\n",
    "Время выполнения первого этапа не зависит от количества соседей и равно примерно 250 секунд. Самый большой вклад во время работы запроса - ранжирование CatBoost. \n",
    "\n",
    "Если cделать 1000 запросов по одной строке из данных valid, то при n = 500 суммарное время выполнения = 2m 45s, или 0.17 секунды на запрос\n"
   ]
  }
 ],
 "metadata": {
  "kernelspec": {
   "display_name": "Python 3 (ipykernel)",
   "language": "python",
   "name": "python3"
  },
  "language_info": {
   "codemirror_mode": {
    "name": "ipython",
    "version": 3
   },
   "file_extension": ".py",
   "mimetype": "text/x-python",
   "name": "python",
   "nbconvert_exporter": "python",
   "pygments_lexer": "ipython3",
   "version": "3.9.13"
  },
  "toc": {
   "base_numbering": 1,
   "nav_menu": {},
   "number_sections": true,
   "sideBar": true,
   "skip_h1_title": false,
   "title_cell": "Table of Contents",
   "title_sidebar": "Contents",
   "toc_cell": false,
   "toc_position": {},
   "toc_section_display": true,
   "toc_window_display": false
  }
 },
 "nbformat": 4,
 "nbformat_minor": 5
}
